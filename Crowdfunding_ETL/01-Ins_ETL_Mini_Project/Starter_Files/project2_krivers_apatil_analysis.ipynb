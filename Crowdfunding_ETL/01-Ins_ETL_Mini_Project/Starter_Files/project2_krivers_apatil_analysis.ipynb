{
 "cells": [
  {
   "cell_type": "code",
   "execution_count": 1,
   "id": "8fa2b7f0-9a23-4f71-8b06-7a0195a5da79",
   "metadata": {},
   "outputs": [],
   "source": [
    "# Python SQL toolkit and Object Relational Mapper\n",
    "import sqlalchemy\n",
    "from sqlalchemy.ext.automap import automap_base\n",
    "from sqlalchemy.orm import Session\n",
    "from sqlalchemy import create_engine, text, inspect, func\n",
    "\n",
    "# data\n",
    "import pandas as pd\n",
    "import numpy as np\n",
    "\n",
    "# viz\n",
    "import seaborn as sns\n",
    "import matplotlib.pyplot as plt"
   ]
  },
  {
   "cell_type": "code",
   "execution_count": 2,
   "id": "7fdb3780-8cff-42d1-aaab-6cc7c63d2425",
   "metadata": {},
   "outputs": [],
   "source": [
    "SQL_USERNAME = \"postgres\"\n",
    "SQL_PASSWORD = \"postgres\" \n",
    "SQL_IP = \"localhost\"\n",
    "PORT = 5432\n",
    "DATABASE = \"project_krivers_apatil_group15\" # change this"
   ]
  },
  {
   "cell_type": "code",
   "execution_count": 3,
   "id": "16bdd8f3-cbbc-4a5a-80f4-d5490a75c449",
   "metadata": {},
   "outputs": [],
   "source": [
    "connection_string = f\"postgresql+psycopg2://{SQL_USERNAME}:{SQL_PASSWORD}@{SQL_IP}:{PORT}/{DATABASE}\"\n",
    "engine = create_engine(connection_string)"
   ]
  },
  {
   "cell_type": "code",
   "execution_count": 4,
   "id": "4aee0cf5-1449-452b-9f37-fc587b50da38",
   "metadata": {},
   "outputs": [
    {
     "name": "stdout",
     "output_type": "stream",
     "text": [
      "contacts\n",
      "-----------\n",
      "contact_id REAL\n",
      "first_name VARCHAR(20)\n",
      "last_name VARCHAR(20)\n",
      "email VARCHAR(80)\n",
      "last_updated TIMESTAMP\n",
      "\n",
      "campaign\n",
      "-----------\n",
      "cf_id REAL\n",
      "contact_id REAL\n",
      "company_name VARCHAR(120)\n",
      "description VARCHAR(120)\n",
      "goal REAL\n",
      "pledged REAL\n",
      "outcome VARCHAR(12)\n",
      "backers_count REAL\n",
      "country VARCHAR(4)\n",
      "currency VARCHAR(4)\n",
      "launch_date DATE\n",
      "end_date DATE\n",
      "staff_pick BOOLEAN\n",
      "spotlight BOOLEAN\n",
      "category_id VARCHAR(4)\n",
      "subcategory_id VARCHAR(20)\n",
      "last_updated TIMESTAMP\n",
      "\n",
      "category\n",
      "-----------\n",
      "category_id VARCHAR(4)\n",
      "category VARCHAR(20)\n",
      "last_updated TIMESTAMP\n",
      "\n",
      "subcategory\n",
      "-----------\n",
      "subcategory_id VARCHAR(8)\n",
      "subcategory VARCHAR(20)\n",
      "last_updated TIMESTAMP\n",
      "\n"
     ]
    }
   ],
   "source": [
    "# INSPECT\n",
    "\n",
    "# Create the inspector and connect it to the engine\n",
    "inspector_gadget = inspect(engine)\n",
    "\n",
    "# Collect the names of tables within the database\n",
    "tables = inspector_gadget.get_table_names()\n",
    "\n",
    "# print metadata for each table\n",
    "for table in tables:\n",
    "    print(table)\n",
    "    print(\"-----------\")\n",
    "    \n",
    "    # get columns\n",
    "    columns = inspector_gadget.get_columns(table)\n",
    "    for column in columns:\n",
    "        print(column[\"name\"], column[\"type\"])\n",
    "\n",
    "    print()"
   ]
  },
  {
   "cell_type": "code",
   "execution_count": 5,
   "id": "17fdd7e8-8aa8-478f-b683-5b4dd980a621",
   "metadata": {},
   "outputs": [
    {
     "name": "stdout",
     "output_type": "stream",
     "text": [
      "[<class 'sqlalchemy.ext.automap.contacts'>, <class 'sqlalchemy.ext.automap.campaign'>, <class 'sqlalchemy.ext.automap.category'>, <class 'sqlalchemy.ext.automap.subcategory'>]\n"
     ]
    }
   ],
   "source": [
    "# Declare a Base using `automap_base()`\n",
    "Base = automap_base()\n",
    "\n",
    "# Use the Base class to reflect the database tables\n",
    "Base.prepare(autoload_with=engine)\n",
    "\n",
    "# Print all of the classes mapped to the Base\n",
    "print(list(Base.classes))"
   ]
  },
  {
   "cell_type": "code",
   "execution_count": 6,
   "id": "800197c2-ba96-4250-a1e9-f183ea802b40",
   "metadata": {},
   "outputs": [
    {
     "data": {
      "text/html": [
       "<div>\n",
       "<style scoped>\n",
       "    .dataframe tbody tr th:only-of-type {\n",
       "        vertical-align: middle;\n",
       "    }\n",
       "\n",
       "    .dataframe tbody tr th {\n",
       "        vertical-align: top;\n",
       "    }\n",
       "\n",
       "    .dataframe thead th {\n",
       "        text-align: right;\n",
       "    }\n",
       "</style>\n",
       "<table border=\"1\" class=\"dataframe\">\n",
       "  <thead>\n",
       "    <tr style=\"text-align: right;\">\n",
       "      <th></th>\n",
       "      <th>contact_id</th>\n",
       "      <th>first_name</th>\n",
       "      <th>last_name</th>\n",
       "      <th>email</th>\n",
       "      <th>last_updated</th>\n",
       "    </tr>\n",
       "  </thead>\n",
       "  <tbody>\n",
       "    <tr>\n",
       "      <th>0</th>\n",
       "      <td>4661.0</td>\n",
       "      <td>Cecilia</td>\n",
       "      <td>Velasco</td>\n",
       "      <td>cecilia.velasco@rodrigues.fr</td>\n",
       "      <td>2024-07-16 11:21:28.020748</td>\n",
       "    </tr>\n",
       "    <tr>\n",
       "      <th>1</th>\n",
       "      <td>3765.0</td>\n",
       "      <td>Mariana</td>\n",
       "      <td>Ellis</td>\n",
       "      <td>mariana.ellis@rossi.org</td>\n",
       "      <td>2024-07-16 11:21:28.020748</td>\n",
       "    </tr>\n",
       "    <tr>\n",
       "      <th>2</th>\n",
       "      <td>4187.0</td>\n",
       "      <td>Sofie</td>\n",
       "      <td>Woods</td>\n",
       "      <td>sofie.woods@riviere.com</td>\n",
       "      <td>2024-07-16 11:21:28.020748</td>\n",
       "    </tr>\n",
       "    <tr>\n",
       "      <th>3</th>\n",
       "      <td>4941.0</td>\n",
       "      <td>Jeanette</td>\n",
       "      <td>Iannotti</td>\n",
       "      <td>jeanette.iannotti@yahoo.com</td>\n",
       "      <td>2024-07-16 11:21:28.020748</td>\n",
       "    </tr>\n",
       "    <tr>\n",
       "      <th>4</th>\n",
       "      <td>2199.0</td>\n",
       "      <td>Samuel</td>\n",
       "      <td>Sorgatz</td>\n",
       "      <td>samuel.sorgatz@gmail.com</td>\n",
       "      <td>2024-07-16 11:21:28.020748</td>\n",
       "    </tr>\n",
       "  </tbody>\n",
       "</table>\n",
       "</div>"
      ],
      "text/plain": [
       "   contact_id first_name last_name                         email  \\\n",
       "0      4661.0    Cecilia   Velasco  cecilia.velasco@rodrigues.fr   \n",
       "1      3765.0    Mariana     Ellis       mariana.ellis@rossi.org   \n",
       "2      4187.0      Sofie     Woods       sofie.woods@riviere.com   \n",
       "3      4941.0   Jeanette  Iannotti   jeanette.iannotti@yahoo.com   \n",
       "4      2199.0     Samuel   Sorgatz      samuel.sorgatz@gmail.com   \n",
       "\n",
       "                last_updated  \n",
       "0 2024-07-16 11:21:28.020748  \n",
       "1 2024-07-16 11:21:28.020748  \n",
       "2 2024-07-16 11:21:28.020748  \n",
       "3 2024-07-16 11:21:28.020748  \n",
       "4 2024-07-16 11:21:28.020748  "
      ]
     },
     "execution_count": 6,
     "metadata": {},
     "output_type": "execute_result"
    }
   ],
   "source": [
    "query = \"\"\"\n",
    "    SELECT\n",
    "        *\n",
    "    FROM\n",
    "contacts;\n",
    "\"\"\"\n",
    "\n",
    "df1 = pd.read_sql(text(query), con=engine)\n",
    "df1.head()"
   ]
  },
  {
   "cell_type": "code",
   "execution_count": 11,
   "id": "5a59ca6f-8010-40da-b453-a9c67f8fb630",
   "metadata": {},
   "outputs": [
    {
     "data": {
      "text/html": [
       "<div>\n",
       "<style scoped>\n",
       "    .dataframe tbody tr th:only-of-type {\n",
       "        vertical-align: middle;\n",
       "    }\n",
       "\n",
       "    .dataframe tbody tr th {\n",
       "        vertical-align: top;\n",
       "    }\n",
       "\n",
       "    .dataframe thead th {\n",
       "        text-align: right;\n",
       "    }\n",
       "</style>\n",
       "<table border=\"1\" class=\"dataframe\">\n",
       "  <thead>\n",
       "    <tr style=\"text-align: right;\">\n",
       "      <th></th>\n",
       "      <th>cf_id</th>\n",
       "      <th>contact_id</th>\n",
       "      <th>company_name</th>\n",
       "      <th>description</th>\n",
       "      <th>goal</th>\n",
       "      <th>pledged</th>\n",
       "      <th>outcome</th>\n",
       "      <th>backers_count</th>\n",
       "      <th>country</th>\n",
       "      <th>currency</th>\n",
       "      <th>launch_date</th>\n",
       "      <th>end_date</th>\n",
       "      <th>staff_pick</th>\n",
       "      <th>spotlight</th>\n",
       "      <th>category_id</th>\n",
       "      <th>subcategory_id</th>\n",
       "      <th>last_updated</th>\n",
       "    </tr>\n",
       "  </thead>\n",
       "  <tbody>\n",
       "    <tr>\n",
       "      <th>0</th>\n",
       "      <td>147.0</td>\n",
       "      <td>4661.0</td>\n",
       "      <td>Baldwin, Riley and Jackson</td>\n",
       "      <td>Pre-emptive tertiary standardization</td>\n",
       "      <td>100.0</td>\n",
       "      <td>0.0</td>\n",
       "      <td>failed</td>\n",
       "      <td>0.0</td>\n",
       "      <td>CA</td>\n",
       "      <td>CAD</td>\n",
       "      <td>2020-02-13</td>\n",
       "      <td>2021-03-01</td>\n",
       "      <td>False</td>\n",
       "      <td>False</td>\n",
       "      <td>1</td>\n",
       "      <td>1</td>\n",
       "      <td>2024-07-16 11:21:43.146832</td>\n",
       "    </tr>\n",
       "    <tr>\n",
       "      <th>1</th>\n",
       "      <td>1621.0</td>\n",
       "      <td>3765.0</td>\n",
       "      <td>Odom Inc</td>\n",
       "      <td>Managed bottom-line architecture</td>\n",
       "      <td>1400.0</td>\n",
       "      <td>14560.0</td>\n",
       "      <td>successful</td>\n",
       "      <td>158.0</td>\n",
       "      <td>US</td>\n",
       "      <td>USD</td>\n",
       "      <td>2021-01-25</td>\n",
       "      <td>2021-05-25</td>\n",
       "      <td>False</td>\n",
       "      <td>True</td>\n",
       "      <td>2</td>\n",
       "      <td>2</td>\n",
       "      <td>2024-07-16 11:21:43.146832</td>\n",
       "    </tr>\n",
       "    <tr>\n",
       "      <th>2</th>\n",
       "      <td>1812.0</td>\n",
       "      <td>4187.0</td>\n",
       "      <td>Melton, Robinson and Fritz</td>\n",
       "      <td>Function-based leadingedge pricing structure</td>\n",
       "      <td>108400.0</td>\n",
       "      <td>142523.0</td>\n",
       "      <td>successful</td>\n",
       "      <td>1425.0</td>\n",
       "      <td>AU</td>\n",
       "      <td>AUD</td>\n",
       "      <td>2020-12-17</td>\n",
       "      <td>2021-12-30</td>\n",
       "      <td>False</td>\n",
       "      <td>False</td>\n",
       "      <td>3</td>\n",
       "      <td>3</td>\n",
       "      <td>2024-07-16 11:21:43.146832</td>\n",
       "    </tr>\n",
       "    <tr>\n",
       "      <th>3</th>\n",
       "      <td>2156.0</td>\n",
       "      <td>4941.0</td>\n",
       "      <td>Mcdonald, Gonzalez and Ross</td>\n",
       "      <td>Vision-oriented fresh-thinking conglomeration</td>\n",
       "      <td>4200.0</td>\n",
       "      <td>2477.0</td>\n",
       "      <td>failed</td>\n",
       "      <td>24.0</td>\n",
       "      <td>US</td>\n",
       "      <td>USD</td>\n",
       "      <td>2021-10-21</td>\n",
       "      <td>2022-01-17</td>\n",
       "      <td>False</td>\n",
       "      <td>False</td>\n",
       "      <td>2</td>\n",
       "      <td>2</td>\n",
       "      <td>2024-07-16 11:21:43.146832</td>\n",
       "    </tr>\n",
       "    <tr>\n",
       "      <th>4</th>\n",
       "      <td>1365.0</td>\n",
       "      <td>2199.0</td>\n",
       "      <td>Larson-Little</td>\n",
       "      <td>Proactive foreground core</td>\n",
       "      <td>7600.0</td>\n",
       "      <td>5265.0</td>\n",
       "      <td>failed</td>\n",
       "      <td>53.0</td>\n",
       "      <td>US</td>\n",
       "      <td>USD</td>\n",
       "      <td>2020-12-21</td>\n",
       "      <td>2021-08-23</td>\n",
       "      <td>False</td>\n",
       "      <td>False</td>\n",
       "      <td>4</td>\n",
       "      <td>4</td>\n",
       "      <td>2024-07-16 11:21:43.146832</td>\n",
       "    </tr>\n",
       "  </tbody>\n",
       "</table>\n",
       "</div>"
      ],
      "text/plain": [
       "    cf_id  contact_id                 company_name  \\\n",
       "0   147.0      4661.0   Baldwin, Riley and Jackson   \n",
       "1  1621.0      3765.0                     Odom Inc   \n",
       "2  1812.0      4187.0   Melton, Robinson and Fritz   \n",
       "3  2156.0      4941.0  Mcdonald, Gonzalez and Ross   \n",
       "4  1365.0      2199.0                Larson-Little   \n",
       "\n",
       "                                     description      goal   pledged  \\\n",
       "0           Pre-emptive tertiary standardization     100.0       0.0   \n",
       "1               Managed bottom-line architecture    1400.0   14560.0   \n",
       "2   Function-based leadingedge pricing structure  108400.0  142523.0   \n",
       "3  Vision-oriented fresh-thinking conglomeration    4200.0    2477.0   \n",
       "4                      Proactive foreground core    7600.0    5265.0   \n",
       "\n",
       "      outcome  backers_count country currency launch_date    end_date  \\\n",
       "0      failed            0.0      CA      CAD  2020-02-13  2021-03-01   \n",
       "1  successful          158.0      US      USD  2021-01-25  2021-05-25   \n",
       "2  successful         1425.0      AU      AUD  2020-12-17  2021-12-30   \n",
       "3      failed           24.0      US      USD  2021-10-21  2022-01-17   \n",
       "4      failed           53.0      US      USD  2020-12-21  2021-08-23   \n",
       "\n",
       "   staff_pick  spotlight category_id subcategory_id               last_updated  \n",
       "0       False      False           1              1 2024-07-16 11:21:43.146832  \n",
       "1       False       True           2              2 2024-07-16 11:21:43.146832  \n",
       "2       False      False           3              3 2024-07-16 11:21:43.146832  \n",
       "3       False      False           2              2 2024-07-16 11:21:43.146832  \n",
       "4       False      False           4              4 2024-07-16 11:21:43.146832  "
      ]
     },
     "execution_count": 11,
     "metadata": {},
     "output_type": "execute_result"
    }
   ],
   "source": [
    "query = \"\"\"\n",
    "    SELECT\n",
    "        *\n",
    "    FROM\n",
    "campaign;\n",
    "\"\"\"\n",
    "\n",
    "df2 = pd.read_sql(text(query), con=engine)\n",
    "df2.head()"
   ]
  },
  {
   "cell_type": "code",
   "execution_count": 12,
   "id": "ce9aed01-79ad-48a4-8986-27580fa6a34b",
   "metadata": {},
   "outputs": [
    {
     "data": {
      "text/html": [
       "<div>\n",
       "<style scoped>\n",
       "    .dataframe tbody tr th:only-of-type {\n",
       "        vertical-align: middle;\n",
       "    }\n",
       "\n",
       "    .dataframe tbody tr th {\n",
       "        vertical-align: top;\n",
       "    }\n",
       "\n",
       "    .dataframe thead th {\n",
       "        text-align: right;\n",
       "    }\n",
       "</style>\n",
       "<table border=\"1\" class=\"dataframe\">\n",
       "  <thead>\n",
       "    <tr style=\"text-align: right;\">\n",
       "      <th></th>\n",
       "      <th>category_id</th>\n",
       "      <th>category</th>\n",
       "      <th>last_updated</th>\n",
       "    </tr>\n",
       "  </thead>\n",
       "  <tbody>\n",
       "    <tr>\n",
       "      <th>0</th>\n",
       "      <td>1</td>\n",
       "      <td>food</td>\n",
       "      <td>2024-07-16 11:21:34.411140</td>\n",
       "    </tr>\n",
       "    <tr>\n",
       "      <th>1</th>\n",
       "      <td>2</td>\n",
       "      <td>music</td>\n",
       "      <td>2024-07-16 11:21:34.411140</td>\n",
       "    </tr>\n",
       "    <tr>\n",
       "      <th>2</th>\n",
       "      <td>3</td>\n",
       "      <td>technology</td>\n",
       "      <td>2024-07-16 11:21:34.411140</td>\n",
       "    </tr>\n",
       "    <tr>\n",
       "      <th>3</th>\n",
       "      <td>4</td>\n",
       "      <td>theater</td>\n",
       "      <td>2024-07-16 11:21:34.411140</td>\n",
       "    </tr>\n",
       "    <tr>\n",
       "      <th>4</th>\n",
       "      <td>5</td>\n",
       "      <td>film &amp; video</td>\n",
       "      <td>2024-07-16 11:21:34.411140</td>\n",
       "    </tr>\n",
       "  </tbody>\n",
       "</table>\n",
       "</div>"
      ],
      "text/plain": [
       "  category_id      category               last_updated\n",
       "0           1          food 2024-07-16 11:21:34.411140\n",
       "1           2         music 2024-07-16 11:21:34.411140\n",
       "2           3    technology 2024-07-16 11:21:34.411140\n",
       "3           4       theater 2024-07-16 11:21:34.411140\n",
       "4           5  film & video 2024-07-16 11:21:34.411140"
      ]
     },
     "execution_count": 12,
     "metadata": {},
     "output_type": "execute_result"
    }
   ],
   "source": [
    "query = \"\"\"\n",
    "    SELECT\n",
    "        *\n",
    "    FROM\n",
    "category;\n",
    "\"\"\"\n",
    "\n",
    "df3 = pd.read_sql(text(query), con=engine)\n",
    "df3.head()"
   ]
  },
  {
   "cell_type": "code",
   "execution_count": 13,
   "id": "8ea3552a-20b1-46f2-8d3f-66b13ee5331f",
   "metadata": {},
   "outputs": [
    {
     "data": {
      "text/html": [
       "<div>\n",
       "<style scoped>\n",
       "    .dataframe tbody tr th:only-of-type {\n",
       "        vertical-align: middle;\n",
       "    }\n",
       "\n",
       "    .dataframe tbody tr th {\n",
       "        vertical-align: top;\n",
       "    }\n",
       "\n",
       "    .dataframe thead th {\n",
       "        text-align: right;\n",
       "    }\n",
       "</style>\n",
       "<table border=\"1\" class=\"dataframe\">\n",
       "  <thead>\n",
       "    <tr style=\"text-align: right;\">\n",
       "      <th></th>\n",
       "      <th>subcategory_id</th>\n",
       "      <th>subcategory</th>\n",
       "      <th>last_updated</th>\n",
       "    </tr>\n",
       "  </thead>\n",
       "  <tbody>\n",
       "    <tr>\n",
       "      <th>0</th>\n",
       "      <td>1</td>\n",
       "      <td>food trucks</td>\n",
       "      <td>2024-07-16 11:21:37.312162</td>\n",
       "    </tr>\n",
       "    <tr>\n",
       "      <th>1</th>\n",
       "      <td>2</td>\n",
       "      <td>rock</td>\n",
       "      <td>2024-07-16 11:21:37.312162</td>\n",
       "    </tr>\n",
       "    <tr>\n",
       "      <th>2</th>\n",
       "      <td>3</td>\n",
       "      <td>web</td>\n",
       "      <td>2024-07-16 11:21:37.312162</td>\n",
       "    </tr>\n",
       "    <tr>\n",
       "      <th>3</th>\n",
       "      <td>4</td>\n",
       "      <td>plays</td>\n",
       "      <td>2024-07-16 11:21:37.312162</td>\n",
       "    </tr>\n",
       "    <tr>\n",
       "      <th>4</th>\n",
       "      <td>5</td>\n",
       "      <td>documentary</td>\n",
       "      <td>2024-07-16 11:21:37.312162</td>\n",
       "    </tr>\n",
       "  </tbody>\n",
       "</table>\n",
       "</div>"
      ],
      "text/plain": [
       "  subcategory_id  subcategory               last_updated\n",
       "0              1  food trucks 2024-07-16 11:21:37.312162\n",
       "1              2         rock 2024-07-16 11:21:37.312162\n",
       "2              3          web 2024-07-16 11:21:37.312162\n",
       "3              4        plays 2024-07-16 11:21:37.312162\n",
       "4              5  documentary 2024-07-16 11:21:37.312162"
      ]
     },
     "execution_count": 13,
     "metadata": {},
     "output_type": "execute_result"
    }
   ],
   "source": [
    "query = \"\"\"\n",
    "    SELECT\n",
    "        *\n",
    "    FROM\n",
    "subcategory;\n",
    "\"\"\"\n",
    "\n",
    "df3 = pd.read_sql(text(query), con=engine)\n",
    "df3.head()"
   ]
  },
  {
   "cell_type": "code",
   "execution_count": 14,
   "id": "b2706a2f-6e13-4f56-8662-bd3775ee2c56",
   "metadata": {},
   "outputs": [
    {
     "data": {
      "text/plain": [
       "outcome\n",
       "successful    565\n",
       "failed        364\n",
       "canceled       57\n",
       "live           14\n",
       "Name: count, dtype: int64"
      ]
     },
     "execution_count": 14,
     "metadata": {},
     "output_type": "execute_result"
    }
   ],
   "source": [
    "df2.outcome.value_counts()"
   ]
  },
  {
   "cell_type": "code",
   "execution_count": 16,
   "id": "2e4a6857-09d2-4c04-b751-ef97cfef04cc",
   "metadata": {},
   "outputs": [
    {
     "data": {
      "text/html": [
       "<div>\n",
       "<style scoped>\n",
       "    .dataframe tbody tr th:only-of-type {\n",
       "        vertical-align: middle;\n",
       "    }\n",
       "\n",
       "    .dataframe tbody tr th {\n",
       "        vertical-align: top;\n",
       "    }\n",
       "\n",
       "    .dataframe thead th {\n",
       "        text-align: right;\n",
       "    }\n",
       "</style>\n",
       "<table border=\"1\" class=\"dataframe\">\n",
       "  <thead>\n",
       "    <tr style=\"text-align: right;\">\n",
       "      <th></th>\n",
       "      <th>cf_id</th>\n",
       "      <th>contact_id</th>\n",
       "      <th>goal</th>\n",
       "      <th>pledged</th>\n",
       "      <th>backers_count</th>\n",
       "      <th>last_updated</th>\n",
       "    </tr>\n",
       "  </thead>\n",
       "  <tbody>\n",
       "    <tr>\n",
       "      <th>count</th>\n",
       "      <td>1000.000000</td>\n",
       "      <td>1000.000000</td>\n",
       "      <td>1000.000000</td>\n",
       "      <td>1000.000000</td>\n",
       "      <td>1000.000000</td>\n",
       "      <td>1000</td>\n",
       "    </tr>\n",
       "    <tr>\n",
       "      <th>mean</th>\n",
       "      <td>1585.743000</td>\n",
       "      <td>3751.434000</td>\n",
       "      <td>43983.100000</td>\n",
       "      <td>42748.055000</td>\n",
       "      <td>727.005000</td>\n",
       "      <td>2024-07-16 11:21:43.146831872</td>\n",
       "    </tr>\n",
       "    <tr>\n",
       "      <th>min</th>\n",
       "      <td>23.000000</td>\n",
       "      <td>1235.000000</td>\n",
       "      <td>100.000000</td>\n",
       "      <td>0.000000</td>\n",
       "      <td>0.000000</td>\n",
       "      <td>2024-07-16 11:21:43.146832</td>\n",
       "    </tr>\n",
       "    <tr>\n",
       "      <th>25%</th>\n",
       "      <td>758.750000</td>\n",
       "      <td>2502.750000</td>\n",
       "      <td>4200.000000</td>\n",
       "      <td>5911.250000</td>\n",
       "      <td>86.000000</td>\n",
       "      <td>2024-07-16 11:21:43.146831872</td>\n",
       "    </tr>\n",
       "    <tr>\n",
       "      <th>50%</th>\n",
       "      <td>1571.500000</td>\n",
       "      <td>3706.500000</td>\n",
       "      <td>8300.000000</td>\n",
       "      <td>11950.000000</td>\n",
       "      <td>184.500000</td>\n",
       "      <td>2024-07-16 11:21:43.146831872</td>\n",
       "    </tr>\n",
       "    <tr>\n",
       "      <th>75%</th>\n",
       "      <td>2402.250000</td>\n",
       "      <td>4994.250000</td>\n",
       "      <td>80625.000000</td>\n",
       "      <td>66294.250000</td>\n",
       "      <td>923.750000</td>\n",
       "      <td>2024-07-16 11:21:43.146831872</td>\n",
       "    </tr>\n",
       "    <tr>\n",
       "      <th>max</th>\n",
       "      <td>3209.000000</td>\n",
       "      <td>6234.000000</td>\n",
       "      <td>199200.000000</td>\n",
       "      <td>199110.000000</td>\n",
       "      <td>7295.000000</td>\n",
       "      <td>2024-07-16 11:21:43.146832</td>\n",
       "    </tr>\n",
       "    <tr>\n",
       "      <th>std</th>\n",
       "      <td>926.944534</td>\n",
       "      <td>1431.743284</td>\n",
       "      <td>58962.425595</td>\n",
       "      <td>57415.481551</td>\n",
       "      <td>1137.723135</td>\n",
       "      <td>NaN</td>\n",
       "    </tr>\n",
       "  </tbody>\n",
       "</table>\n",
       "</div>"
      ],
      "text/plain": [
       "             cf_id   contact_id           goal        pledged  backers_count  \\\n",
       "count  1000.000000  1000.000000    1000.000000    1000.000000    1000.000000   \n",
       "mean   1585.743000  3751.434000   43983.100000   42748.055000     727.005000   \n",
       "min      23.000000  1235.000000     100.000000       0.000000       0.000000   \n",
       "25%     758.750000  2502.750000    4200.000000    5911.250000      86.000000   \n",
       "50%    1571.500000  3706.500000    8300.000000   11950.000000     184.500000   \n",
       "75%    2402.250000  4994.250000   80625.000000   66294.250000     923.750000   \n",
       "max    3209.000000  6234.000000  199200.000000  199110.000000    7295.000000   \n",
       "std     926.944534  1431.743284   58962.425595   57415.481551    1137.723135   \n",
       "\n",
       "                        last_updated  \n",
       "count                           1000  \n",
       "mean   2024-07-16 11:21:43.146831872  \n",
       "min       2024-07-16 11:21:43.146832  \n",
       "25%    2024-07-16 11:21:43.146831872  \n",
       "50%    2024-07-16 11:21:43.146831872  \n",
       "75%    2024-07-16 11:21:43.146831872  \n",
       "max       2024-07-16 11:21:43.146832  \n",
       "std                              NaN  "
      ]
     },
     "execution_count": 16,
     "metadata": {},
     "output_type": "execute_result"
    }
   ],
   "source": [
    "df2.describe()"
   ]
  },
  {
   "cell_type": "code",
   "execution_count": 17,
   "id": "74870cae-1561-44c8-9d3c-2f93671081b3",
   "metadata": {},
   "outputs": [
    {
     "data": {
      "text/plain": [
       "staff_pick\n",
       "False    951\n",
       "True      49\n",
       "Name: count, dtype: int64"
      ]
     },
     "execution_count": 17,
     "metadata": {},
     "output_type": "execute_result"
    }
   ],
   "source": [
    "df2.staff_pick.value_counts()"
   ]
  },
  {
   "cell_type": "code",
   "execution_count": 18,
   "id": "6011c4e0-2e4f-47e7-a4c3-e44208cf2deb",
   "metadata": {
    "scrolled": true
   },
   "outputs": [
    {
     "data": {
      "text/plain": [
       "spotlight\n",
       "False    732\n",
       "True     268\n",
       "Name: count, dtype: int64"
      ]
     },
     "execution_count": 18,
     "metadata": {},
     "output_type": "execute_result"
    }
   ],
   "source": [
    "df2.spotlight.value_counts()"
   ]
  },
  {
   "cell_type": "code",
   "execution_count": 117,
   "id": "c17eaa14-3007-40dd-8355-3aecb1eb0083",
   "metadata": {},
   "outputs": [],
   "source": [
    "query = \"\"\"\n",
    "    SELECT\n",
    "        ca.goal,\n",
    "        ca.pledged,\n",
    "        cat.category,\n",
    "        ca.spotlight,\n",
    "        ca.staff_pick\n",
    "    FROM\n",
    "        campaign ca\n",
    "    INNER Join\n",
    "        category cat\n",
    "    ON\n",
    "        ca.category_id = cat.category_id\n",
    "    Where \n",
    "        ca.outcome = 'successful'\n",
    "        \n",
    ";\n",
    "\"\"\"\n",
    "\n",
    "vis1_df = pd.read_sql(text(query), con=engine)\n",
    "vis1_df = vis1_df.sort_values(by=\"goal\", ascending=False)"
   ]
  },
  {
   "cell_type": "code",
   "execution_count": 118,
   "id": "ebbce0b2-f6d0-44c4-8665-d16a208f5d28",
   "metadata": {},
   "outputs": [
    {
     "data": {
      "image/png": "[encoded data removed]",
      "text/plain": [
       "<Figure size 1100x600 with 1 Axes>"
      ]
     },
     "metadata": {},
     "output_type": "display_data"
    }
   ],
   "source": [
    "\n",
    "y = vis1_df[\"goal\"]\n",
    "x = vis1_df[\"category\"]\n",
    "\n",
    "\n",
    "# Step 2: Create the Canvas\n",
    "plt.figure(figsize=(11,6))\n",
    "\n",
    "# Step 3: Create the skeleton plot\n",
    "plt.barh(x, y, color=\"#46FD5F\", label='goal')\n",
    "# plt.barh(x, y2, color= \"#982121\", label='pledged')\n",
    "\n",
    "# Step 4: Customization\n",
    "plt.xlabel(\"Goal ($)\", fontsize=14, fontstyle=\"italic\")\n",
    "plt.ylabel(\"Category\", fontsize=14, fontstyle=\"italic\")\n",
    "plt.title(\"Successful Projects vs Goal($)\", fontsize=16, fontweight=\"bold\")\n",
    "# plt.ylim(100000, 300000)\n",
    "\n",
    "plt.grid(axis=\"x\", color=\"lightgrey\", linestyle=\"--\", alpha=0.5)\n",
    "plt.xticks(rotation=0)\n",
    "\n",
    "# Step 5: Show/Save\n",
    "plt.show()"
   ]
  },
  {
   "cell_type": "code",
   "execution_count": 119,
   "id": "f8db6a74-c76e-4975-b22d-801e1270a6ff",
   "metadata": {},
   "outputs": [],
   "source": [
    "# Save references to each table\n",
    "Contacts = Base.classes.contacts\n",
    "Campaign = Base.classes.campaign\n",
    "Category = Base.classes.category\n",
    "Subcategory = Base.classes.subcategory"
   ]
  },
  {
   "cell_type": "code",
   "execution_count": 120,
   "id": "bc536522-f284-4dfa-b6bf-c7da3b01e907",
   "metadata": {},
   "outputs": [],
   "source": [
    "# Create our session (link) from Python to the DB\n",
    "session = Session(engine)"
   ]
  },
  {
   "cell_type": "code",
   "execution_count": 121,
   "id": "0143c9d9-70a1-46a3-8c55-7a64d790f307",
   "metadata": {},
   "outputs": [
    {
     "name": "stdout",
     "output_type": "stream",
     "text": [
      "<class 'pandas.core.frame.DataFrame'>\n",
      "RangeIndex: 1000 entries, 0 to 999\n",
      "Data columns (total 17 columns):\n",
      " #   Column          Non-Null Count  Dtype         \n",
      "---  ------          --------------  -----         \n",
      " 0   cf_id           1000 non-null   float64       \n",
      " 1   contact_id      1000 non-null   float64       \n",
      " 2   company_name    1000 non-null   object        \n",
      " 3   description     1000 non-null   object        \n",
      " 4   goal            1000 non-null   float64       \n",
      " 5   pledged         1000 non-null   float64       \n",
      " 6   outcome         1000 non-null   object        \n",
      " 7   backers_count   1000 non-null   float64       \n",
      " 8   country         1000 non-null   object        \n",
      " 9   currency        1000 non-null   object        \n",
      " 10  launch_date     1000 non-null   datetime64[ns]\n",
      " 11  end_date        1000 non-null   object        \n",
      " 12  staff_pick      1000 non-null   bool          \n",
      " 13  spotlight       1000 non-null   bool          \n",
      " 14  category_id     1000 non-null   object        \n",
      " 15  subcategory_id  1000 non-null   object        \n",
      " 16  last_updated    1000 non-null   datetime64[ns]\n",
      "dtypes: bool(2), datetime64[ns](2), float64(5), object(8)\n",
      "memory usage: 119.3+ KB\n"
     ]
    }
   ],
   "source": [
    "df2[\"launch_date\"] = pd.to_datetime(df2[\"launch_date\"])\n",
    "df2.info()"
   ]
  },
  {
   "cell_type": "code",
   "execution_count": 122,
   "id": "b4c72229-bed7-442f-97e7-62955d1aa639",
   "metadata": {},
   "outputs": [
    {
     "data": {
      "text/html": [
       "<div>\n",
       "<style scoped>\n",
       "    .dataframe tbody tr th:only-of-type {\n",
       "        vertical-align: middle;\n",
       "    }\n",
       "\n",
       "    .dataframe tbody tr th {\n",
       "        vertical-align: top;\n",
       "    }\n",
       "\n",
       "    .dataframe thead th {\n",
       "        text-align: right;\n",
       "    }\n",
       "</style>\n",
       "<table border=\"1\" class=\"dataframe\">\n",
       "  <thead>\n",
       "    <tr style=\"text-align: right;\">\n",
       "      <th></th>\n",
       "      <th>outcome</th>\n",
       "      <th>launch_month</th>\n",
       "      <th>category</th>\n",
       "    </tr>\n",
       "  </thead>\n",
       "  <tbody>\n",
       "    <tr>\n",
       "      <th>0</th>\n",
       "      <td>failed</td>\n",
       "      <td>2</td>\n",
       "      <td>food</td>\n",
       "    </tr>\n",
       "    <tr>\n",
       "      <th>1</th>\n",
       "      <td>successful</td>\n",
       "      <td>1</td>\n",
       "      <td>music</td>\n",
       "    </tr>\n",
       "    <tr>\n",
       "      <th>2</th>\n",
       "      <td>successful</td>\n",
       "      <td>12</td>\n",
       "      <td>technology</td>\n",
       "    </tr>\n",
       "    <tr>\n",
       "      <th>3</th>\n",
       "      <td>failed</td>\n",
       "      <td>10</td>\n",
       "      <td>music</td>\n",
       "    </tr>\n",
       "    <tr>\n",
       "      <th>4</th>\n",
       "      <td>failed</td>\n",
       "      <td>12</td>\n",
       "      <td>theater</td>\n",
       "    </tr>\n",
       "  </tbody>\n",
       "</table>\n",
       "</div>"
      ],
      "text/plain": [
       "      outcome launch_month    category\n",
       "0      failed            2        food\n",
       "1  successful            1       music\n",
       "2  successful           12  technology\n",
       "3      failed           10       music\n",
       "4      failed           12     theater"
      ]
     },
     "execution_count": 122,
     "metadata": {},
     "output_type": "execute_result"
    }
   ],
   "source": [
    "# Calculate the date one year from the last date in data set.\n",
    "# start_date = datetime.date(2016, 8, 23)\n",
    "from sqlalchemy import or_\n",
    "from sqlalchemy import extract\n",
    "# Perform a query to retrieve the data and tobs scores\n",
    "results = session.query(Campaign.outcome, extract(\"month\", Campaign.launch_date), Category.category).\\\n",
    "    filter(Campaign.category_id ==  Category.category_id).\\\n",
    "    filter(or_(Campaign.outcome == \"successful\", Campaign.outcome == \"failed\")).\\\n",
    "    all()\n",
    "\n",
    "# Save the query results as a Pandas DataFrame. Explicitly set the column names\n",
    "vis2_df = pd.DataFrame(results,columns = [\"outcome\",\"launch_month\",\"category\"])\n",
    "\n",
    "\n",
    "# Use Pandas Plotting with Matplotlib to plot the data\n",
    "vis2_df.head()\n",
    "# df8.info()"
   ]
  },
  {
   "cell_type": "code",
   "execution_count": 123,
   "id": "0bcbddc2-1186-464e-b915-a9b62f5952d6",
   "metadata": {},
   "outputs": [],
   "source": [
    "vis2_df[\"outcome\"] = vis2_df[\"outcome\"].replace(\"failed\", 1)\n",
    "vis2_df[\"outcome\"] = vis2_df[\"outcome\"].replace(\"successful\", 2)"
   ]
  },
  {
   "cell_type": "code",
   "execution_count": 124,
   "id": "06a170c9-d6c8-4464-8bb0-45902337754c",
   "metadata": {},
   "outputs": [
    {
     "data": {
      "text/plain": [
       "outcome\n",
       "2    565\n",
       "1    364\n",
       "Name: count, dtype: int64"
      ]
     },
     "execution_count": 124,
     "metadata": {},
     "output_type": "execute_result"
    }
   ],
   "source": [
    "vis2_df.outcome.value_counts()"
   ]
  },
  {
   "cell_type": "code",
   "execution_count": 125,
   "id": "c566e72c-2f2f-45a9-afcf-69c76741e548",
   "metadata": {},
   "outputs": [
    {
     "data": {
      "image/png": "[encoded data removed]",
      "text/plain": [
       "<Figure size 1200x600 with 1 Axes>"
      ]
     },
     "metadata": {},
     "output_type": "display_data"
    }
   ],
   "source": [
    "# Step 1: Get the Data\n",
    "x = vis2_df.launch_month\n",
    "y = vis2_df.outcome\n",
    "# s = vis2_df.weight\n",
    "\n",
    "# Step 2: Make the canvas\n",
    "plt.figure(figsize=(12, 6))\n",
    "\n",
    "# Step 3: Make the basic plot\n",
    "plt.scatter(x, y, facecolor=\"pink\", edgecolor=\"black\")\n",
    "# plt.scatter(x, y, facecolor=\"pink\", edgecolor=\"black\", s=s/25)\n",
    "# Step 4: Customizations\n",
    "plt.xlabel(\"Launch Month\", fontsize=12, fontstyle=\"italic\")\n",
    "plt.ylabel(\"Outcome\", fontsize=12, fontstyle=\"italic\")\n",
    "plt.title(\"Launch Date vs Outcome\", fontweight=\"bold\", fontsize=16)\n",
    "\n",
    "# plt.xlim(0, 250)\n",
    "# plt.ylim(0, 50)\n",
    "\n",
    "plt.grid(color=\"lightgrey\", linestyle = \"--\", alpha=0.5)\n",
    "\n",
    "# Step 5: Show/Save the graph\n",
    "plt.show()"
   ]
  },
  {
   "cell_type": "code",
   "execution_count": 126,
   "id": "f93a118a-de17-444c-b71d-f43c1e37f531",
   "metadata": {},
   "outputs": [
    {
     "data": {
      "image/png": "[encoded data removed]",
      "text/plain": [
       "<Figure size 1200x800 with 2 Axes>"
      ]
     },
     "metadata": {},
     "output_type": "display_data"
    }
   ],
   "source": [
    "# Assuming you have a DataFrame 'df' with columns for month, category, and project outcome (success/failure)\n",
    "# Create a pivot table to summarize the success rates by month and category\n",
    "pivot_table = vis2_df.pivot_table(index='launch_month', columns='category', values='outcome', aggfunc='mean')\n",
    "\n",
    "# Create a heatmap\n",
    "plt.figure(figsize=(12, 8))\n",
    "sns.heatmap(pivot_table, annot=True, cmap='coolwarm', fmt='.1%')\n",
    "plt.title('Success Rates of Projects by Month and Category')\n",
    "plt.show()"
   ]
  },
  {
   "cell_type": "code",
   "execution_count": 133,
   "id": "407aba3a-1788-4f37-9793-6fae4f221588",
   "metadata": {},
   "outputs": [
    {
     "data": {
      "text/plain": [
       "category\n",
       "film & video    2612400.0\n",
       "food             399600.0\n",
       "games            373600.0\n",
       "journalism        25700.0\n",
       "music           2798000.0\n",
       "photography      374800.0\n",
       "publishing      1074000.0\n",
       "technology      1875300.0\n",
       "theater         5385600.0\n",
       "Name: goal, dtype: float64"
      ]
     },
     "execution_count": 133,
     "metadata": {},
     "output_type": "execute_result"
    }
   ],
   "source": [
    "staff = vis1_df.groupby([\"category\"])[\"goal\"].sum()\n",
    "staff"
   ]
  },
  {
   "cell_type": "code",
   "execution_count": 136,
   "id": "9c6710c6-aee8-4e59-8f19-9658907e22c7",
   "metadata": {},
   "outputs": [
    {
     "data": {
      "text/plain": [
       "count    9.000000e+00\n",
       "mean     1.657667e+06\n",
       "std      1.733422e+06\n",
       "min      2.570000e+04\n",
       "25%      3.748000e+05\n",
       "50%      1.074000e+06\n",
       "75%      2.612400e+06\n",
       "max      5.385600e+06\n",
       "Name: goal, dtype: float64"
      ]
     },
     "execution_count": 136,
     "metadata": {},
     "output_type": "execute_result"
    }
   ],
   "source": [
    "staff.describe()"
   ]
  },
  {
   "cell_type": "code",
   "execution_count": 137,
   "id": "8cea8952-c3c5-4df3-b4b1-de9d181a4711",
   "metadata": {},
   "outputs": [
    {
     "ename": "KeyError",
     "evalue": "'goal'",
     "output_type": "error",
     "traceback": [
      "\u001b[1;31m---------------------------------------------------------------------------\u001b[0m",
      "\u001b[1;31mKeyError\u001b[0m                                  Traceback (most recent call last)",
      "File \u001b[1;32m~\\AppData\\Local\\anaconda3\\envs\\dev\\lib\\site-packages\\pandas\\core\\indexes\\base.py:3791\u001b[0m, in \u001b[0;36mIndex.get_loc\u001b[1;34m(self, key)\u001b[0m\n\u001b[0;32m   3790\u001b[0m \u001b[38;5;28;01mtry\u001b[39;00m:\n\u001b[1;32m-> 3791\u001b[0m     \u001b[38;5;28;01mreturn\u001b[39;00m \u001b[38;5;28;43mself\u001b[39;49m\u001b[38;5;241;43m.\u001b[39;49m\u001b[43m_engine\u001b[49m\u001b[38;5;241;43m.\u001b[39;49m\u001b[43mget_loc\u001b[49m\u001b[43m(\u001b[49m\u001b[43mcasted_key\u001b[49m\u001b[43m)\u001b[49m\n\u001b[0;32m   3792\u001b[0m \u001b[38;5;28;01mexcept\u001b[39;00m \u001b[38;5;167;01mKeyError\u001b[39;00m \u001b[38;5;28;01mas\u001b[39;00m err:\n",
      "File \u001b[1;32mindex.pyx:152\u001b[0m, in \u001b[0;36mpandas._libs.index.IndexEngine.get_loc\u001b[1;34m()\u001b[0m\n",
      "File \u001b[1;32mindex.pyx:181\u001b[0m, in \u001b[0;36mpandas._libs.index.IndexEngine.get_loc\u001b[1;34m()\u001b[0m\n",
      "File \u001b[1;32mpandas\\_libs\\hashtable_class_helper.pxi:7080\u001b[0m, in \u001b[0;36mpandas._libs.hashtable.PyObjectHashTable.get_item\u001b[1;34m()\u001b[0m\n",
      "File \u001b[1;32mpandas\\_libs\\hashtable_class_helper.pxi:7088\u001b[0m, in \u001b[0;36mpandas._libs.hashtable.PyObjectHashTable.get_item\u001b[1;34m()\u001b[0m\n",
      "\u001b[1;31mKeyError\u001b[0m: 'goal'",
      "\nThe above exception was the direct cause of the following exception:\n",
      "\u001b[1;31mKeyError\u001b[0m                                  Traceback (most recent call last)",
      "Cell \u001b[1;32mIn[137], line 2\u001b[0m\n\u001b[0;32m      1\u001b[0m \u001b[38;5;66;03m# Step 1: get the data\u001b[39;00m\n\u001b[1;32m----> 2\u001b[0m x \u001b[38;5;241m=\u001b[39m \u001b[43mstaff\u001b[49m\u001b[43m[\u001b[49m\u001b[38;5;124;43m\"\u001b[39;49m\u001b[38;5;124;43mgoal\u001b[39;49m\u001b[38;5;124;43m\"\u001b[39;49m\u001b[43m]\u001b[49m\n\u001b[0;32m      4\u001b[0m \u001b[38;5;66;03m# create the plot\u001b[39;00m\n\u001b[0;32m      5\u001b[0m plt\u001b[38;5;241m.\u001b[39mfigure(figsize\u001b[38;5;241m=\u001b[39m(\u001b[38;5;241m10\u001b[39m,\u001b[38;5;241m6\u001b[39m))\n",
      "File \u001b[1;32m~\\AppData\\Local\\anaconda3\\envs\\dev\\lib\\site-packages\\pandas\\core\\series.py:1040\u001b[0m, in \u001b[0;36mSeries.__getitem__\u001b[1;34m(self, key)\u001b[0m\n\u001b[0;32m   1037\u001b[0m     \u001b[38;5;28;01mreturn\u001b[39;00m \u001b[38;5;28mself\u001b[39m\u001b[38;5;241m.\u001b[39m_values[key]\n\u001b[0;32m   1039\u001b[0m \u001b[38;5;28;01melif\u001b[39;00m key_is_scalar:\n\u001b[1;32m-> 1040\u001b[0m     \u001b[38;5;28;01mreturn\u001b[39;00m \u001b[38;5;28;43mself\u001b[39;49m\u001b[38;5;241;43m.\u001b[39;49m\u001b[43m_get_value\u001b[49m\u001b[43m(\u001b[49m\u001b[43mkey\u001b[49m\u001b[43m)\u001b[49m\n\u001b[0;32m   1042\u001b[0m \u001b[38;5;66;03m# Convert generator to list before going through hashable part\u001b[39;00m\n\u001b[0;32m   1043\u001b[0m \u001b[38;5;66;03m# (We will iterate through the generator there to check for slices)\u001b[39;00m\n\u001b[0;32m   1044\u001b[0m \u001b[38;5;28;01mif\u001b[39;00m is_iterator(key):\n",
      "File \u001b[1;32m~\\AppData\\Local\\anaconda3\\envs\\dev\\lib\\site-packages\\pandas\\core\\series.py:1156\u001b[0m, in \u001b[0;36mSeries._get_value\u001b[1;34m(self, label, takeable)\u001b[0m\n\u001b[0;32m   1153\u001b[0m     \u001b[38;5;28;01mreturn\u001b[39;00m \u001b[38;5;28mself\u001b[39m\u001b[38;5;241m.\u001b[39m_values[label]\n\u001b[0;32m   1155\u001b[0m \u001b[38;5;66;03m# Similar to Index.get_value, but we do not fall back to positional\u001b[39;00m\n\u001b[1;32m-> 1156\u001b[0m loc \u001b[38;5;241m=\u001b[39m \u001b[38;5;28;43mself\u001b[39;49m\u001b[38;5;241;43m.\u001b[39;49m\u001b[43mindex\u001b[49m\u001b[38;5;241;43m.\u001b[39;49m\u001b[43mget_loc\u001b[49m\u001b[43m(\u001b[49m\u001b[43mlabel\u001b[49m\u001b[43m)\u001b[49m\n\u001b[0;32m   1158\u001b[0m \u001b[38;5;28;01mif\u001b[39;00m is_integer(loc):\n\u001b[0;32m   1159\u001b[0m     \u001b[38;5;28;01mreturn\u001b[39;00m \u001b[38;5;28mself\u001b[39m\u001b[38;5;241m.\u001b[39m_values[loc]\n",
      "File \u001b[1;32m~\\AppData\\Local\\anaconda3\\envs\\dev\\lib\\site-packages\\pandas\\core\\indexes\\base.py:3798\u001b[0m, in \u001b[0;36mIndex.get_loc\u001b[1;34m(self, key)\u001b[0m\n\u001b[0;32m   3793\u001b[0m     \u001b[38;5;28;01mif\u001b[39;00m \u001b[38;5;28misinstance\u001b[39m(casted_key, \u001b[38;5;28mslice\u001b[39m) \u001b[38;5;129;01mor\u001b[39;00m (\n\u001b[0;32m   3794\u001b[0m         \u001b[38;5;28misinstance\u001b[39m(casted_key, abc\u001b[38;5;241m.\u001b[39mIterable)\n\u001b[0;32m   3795\u001b[0m         \u001b[38;5;129;01mand\u001b[39;00m \u001b[38;5;28many\u001b[39m(\u001b[38;5;28misinstance\u001b[39m(x, \u001b[38;5;28mslice\u001b[39m) \u001b[38;5;28;01mfor\u001b[39;00m x \u001b[38;5;129;01min\u001b[39;00m casted_key)\n\u001b[0;32m   3796\u001b[0m     ):\n\u001b[0;32m   3797\u001b[0m         \u001b[38;5;28;01mraise\u001b[39;00m InvalidIndexError(key)\n\u001b[1;32m-> 3798\u001b[0m     \u001b[38;5;28;01mraise\u001b[39;00m \u001b[38;5;167;01mKeyError\u001b[39;00m(key) \u001b[38;5;28;01mfrom\u001b[39;00m \u001b[38;5;21;01merr\u001b[39;00m\n\u001b[0;32m   3799\u001b[0m \u001b[38;5;28;01mexcept\u001b[39;00m \u001b[38;5;167;01mTypeError\u001b[39;00m:\n\u001b[0;32m   3800\u001b[0m     \u001b[38;5;66;03m# If we have a listlike key, _check_indexing_error will raise\u001b[39;00m\n\u001b[0;32m   3801\u001b[0m     \u001b[38;5;66;03m#  InvalidIndexError. Otherwise we fall through and re-raise\u001b[39;00m\n\u001b[0;32m   3802\u001b[0m     \u001b[38;5;66;03m#  the TypeError.\u001b[39;00m\n\u001b[0;32m   3803\u001b[0m     \u001b[38;5;28mself\u001b[39m\u001b[38;5;241m.\u001b[39m_check_indexing_error(key)\n",
      "\u001b[1;31mKeyError\u001b[0m: 'goal'"
     ]
    }
   ],
   "source": [
    "# Step 1: get the data\n",
    "x = staff[\"goal\"]\n",
    "\n",
    "# create the plot\n",
    "plt.figure(figsize=(10,6))\n",
    "sns.violinplot(data=x, color=\"#EF8354\")\n",
    "\n",
    "# customizations\n",
    "plt.xlabel(\"a\", fontstyle=\"italic\", fontsize=12)\n",
    "plt.ylabel(\"y\", fontstyle=\"italic\", fontsize=12)\n",
    "# plt.grid(color=\"lightgrey\", axis=\"y\", linestyle=\"--\", alpha=0.25)\n",
    "\n",
    "# show\n",
    "plt.show()"
   ]
  },
  {
   "cell_type": "code",
   "execution_count": null,
   "id": "bd92005c-e30c-49a7-8446-16bde2c64632",
   "metadata": {},
   "outputs": [],
   "source": []
  }
 ],
 "metadata": {
  "kernelspec": {
   "display_name": "Python 3 (ipykernel)",
   "language": "python",
   "name": "python3"
  },
  "language_info": {
   "codemirror_mode": {
    "name": "ipython",
    "version": 3
   },
   "file_extension": ".py",
   "mimetype": "text/x-python",
   "name": "python",
   "nbconvert_exporter": "python",
   "pygments_lexer": "ipython3",
   "version": "3.10.14"
  }
 },
 "nbformat": 4,
 "nbformat_minor": 5
}
